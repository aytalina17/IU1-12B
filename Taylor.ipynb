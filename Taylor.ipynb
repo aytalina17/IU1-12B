{
 "cells": [
  {
   "cell_type": "code",
   "execution_count": 3,
   "id": "acf9457b",
   "metadata": {},
   "outputs": [],
   "source": [
    "from PolynomMethod import gorner_calc"
   ]
  },
  {
   "cell_type": "code",
   "execution_count": 4,
   "id": "86ef6f1c",
   "metadata": {},
   "outputs": [],
   "source": [
    "a = [1,1,1,1]\n",
    "x = 2"
   ]
  },
  {
   "cell_type": "code",
   "execution_count": 5,
   "id": "33f84809",
   "metadata": {},
   "outputs": [
    {
     "data": {
      "text/plain": [
       "15.0"
      ]
     },
     "execution_count": 5,
     "metadata": {},
     "output_type": "execute_result"
    }
   ],
   "source": [
    "gorner_calc(a,x)"
   ]
  },
  {
   "cell_type": "code",
   "execution_count": 12,
   "id": "2dd8f5bc",
   "metadata": {},
   "outputs": [],
   "source": [
    "def factorial(n):\n",
    "    if type(n) == int:\n",
    "        if n >= 0:\n",
    "            if n == 0:\n",
    "                return 1\n",
    "            else:\n",
    "                result = 1\n",
    "                for i in range(1, n + 1):\n",
    "                    result *= i\n",
    "                return result\n",
    "        else:\n",
    "            print(\"Cannot calculate factorial for negative parametres\")\n",
    "    else:\n",
    "        print(\"Parametr should be int tipe\")"
   ]
  },
  {
   "cell_type": "code",
   "execution_count": 13,
   "id": "4f9c088a",
   "metadata": {},
   "outputs": [
    {
     "data": {
      "text/plain": [
       "120"
      ]
     },
     "execution_count": 13,
     "metadata": {},
     "output_type": "execute_result"
    }
   ],
   "source": [
    "factorial(5)"
   ]
  },
  {
   "cell_type": "code",
   "execution_count": 8,
   "id": "d3819090",
   "metadata": {},
   "outputs": [],
   "source": [
    "n = 100\n",
    "a = []\n",
    "for i in range(n+1):\n",
    "    a.append(1/factorial(i))"
   ]
  },
  {
   "cell_type": "code",
   "execution_count": 10,
   "id": "94561d58",
   "metadata": {},
   "outputs": [],
   "source": [
    "x = 1"
   ]
  },
  {
   "cell_type": "code",
   "execution_count": 11,
   "id": "b99d7bc6",
   "metadata": {},
   "outputs": [
    {
     "data": {
      "text/plain": [
       "2.718281828459045"
      ]
     },
     "execution_count": 11,
     "metadata": {},
     "output_type": "execute_result"
    }
   ],
   "source": [
    "gorner_calc(a ,x)"
   ]
  },
  {
   "cell_type": "code",
   "execution_count": null,
   "id": "e34402cd",
   "metadata": {},
   "outputs": [],
   "source": []
  }
 ],
 "metadata": {
  "kernelspec": {
   "display_name": "Python 3 (ipykernel)",
   "language": "python",
   "name": "python3"
  },
  "language_info": {
   "codemirror_mode": {
    "name": "ipython",
    "version": 3
   },
   "file_extension": ".py",
   "mimetype": "text/x-python",
   "name": "python",
   "nbconvert_exporter": "python",
   "pygments_lexer": "ipython3",
   "version": "3.9.0"
  }
 },
 "nbformat": 4,
 "nbformat_minor": 5
}
