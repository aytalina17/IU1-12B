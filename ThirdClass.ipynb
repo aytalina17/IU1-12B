{
 "cells": [
  {
   "cell_type": "code",
   "execution_count": 1,
   "id": "fe58b35d",
   "metadata": {},
   "outputs": [],
   "source": [
    "a = [1,2,3,4]"
   ]
  },
  {
   "cell_type": "code",
   "execution_count": 2,
   "id": "0a4d037b",
   "metadata": {},
   "outputs": [],
   "source": [
    "a_0 = a[0]\n",
    "a_1 = a[1]\n",
    "a_2 = a[2]\n",
    "a_3 = a[3]"
   ]
  },
  {
   "cell_type": "code",
   "execution_count": 14,
   "id": "236f5eed",
   "metadata": {},
   "outputs": [],
   "source": [
    "x = 1."
   ]
  },
  {
   "cell_type": "code",
   "execution_count": 15,
   "id": "d435c176",
   "metadata": {},
   "outputs": [],
   "source": [
    "polynom_value = a_0 + a_1*x + a_2*x**2 + a_3*x**3"
   ]
  },
  {
   "cell_type": "code",
   "execution_count": 16,
   "id": "d8adf394",
   "metadata": {},
   "outputs": [],
   "source": [
    "a = [1,2,3,4,5,6,7,8,9]"
   ]
  },
  {
   "cell_type": "code",
   "execution_count": 17,
   "id": "bb5c6f2f",
   "metadata": {},
   "outputs": [],
   "source": [
    "n = len(a)"
   ]
  },
  {
   "cell_type": "code",
   "execution_count": 18,
   "id": "4a3eeabd",
   "metadata": {},
   "outputs": [],
   "source": [
    "polynom_value = 0.0\n",
    "for i in range(n):\n",
    "    polynom_value = polynom_value + a[i] * x ** i"
   ]
  },
  {
   "cell_type": "code",
   "execution_count": 19,
   "id": "45a54ad9",
   "metadata": {},
   "outputs": [
    {
     "data": {
      "text/plain": [
       "45.0"
      ]
     },
     "execution_count": 19,
     "metadata": {},
     "output_type": "execute_result"
    }
   ],
   "source": [
    "polynom_value"
   ]
  },
  {
   "cell_type": "code",
   "execution_count": 33,
   "id": "119c4b84",
   "metadata": {},
   "outputs": [],
   "source": [
    "a = [1, 3, 4] * 10000000\n",
    "x = 1."
   ]
  },
  {
   "cell_type": "code",
   "execution_count": 32,
   "id": "7076bc99",
   "metadata": {},
   "outputs": [],
   "source": [
    "def calc(a, x):\n",
    "    polynom_value = 0.0\n",
    "    for i in range(len(a)):\n",
    "        polynom_value += a[i] * x ** i\n",
    "    return polynom_value"
   ]
  },
  {
   "cell_type": "code",
   "execution_count": 35,
   "id": "5e3cb06d",
   "metadata": {},
   "outputs": [],
   "source": [
    "def gorner_calc(a, x):\n",
    "    polynom_value = 0.0\n",
    "    for i in range(len(a)-1, -1, -1):\n",
    "        polynom_value = polynom_value*x + a[i]\n",
    "    return polynom_value"
   ]
  },
  {
   "cell_type": "code",
   "execution_count": 56,
   "id": "3b47b2ae",
   "metadata": {},
   "outputs": [
    {
     "name": "stdout",
     "output_type": "stream",
     "text": [
      "Wall time: 2.01 s\n"
     ]
    }
   ],
   "source": [
    "%%time\n",
    "for i in range(100000):\n",
    "    calc(a,x)"
   ]
  },
  {
   "cell_type": "code",
   "execution_count": 57,
   "id": "c3e058d4",
   "metadata": {},
   "outputs": [
    {
     "name": "stdout",
     "output_type": "stream",
     "text": [
      "Wall time: 1.41 s\n"
     ]
    }
   ],
   "source": [
    "%%time\n",
    "for i in range(100000):\n",
    "    gorner_calc(a,x)"
   ]
  },
  {
   "cell_type": "code",
   "execution_count": 55,
   "id": "18571a74",
   "metadata": {},
   "outputs": [
    {
     "data": {
      "text/plain": [
       "1.0928961748633879"
      ]
     },
     "execution_count": 55,
     "metadata": {},
     "output_type": "execute_result"
    }
   ],
   "source": [
    "20/18.3"
   ]
  },
  {
   "cell_type": "code",
   "execution_count": 52,
   "id": "bb986b95",
   "metadata": {},
   "outputs": [
    {
     "data": {
      "text/plain": [
       "1.7835820895522387"
      ]
     },
     "execution_count": 52,
     "metadata": {},
     "output_type": "execute_result"
    }
   ],
   "source": [
    "239/134"
   ]
  },
  {
   "cell_type": "code",
   "execution_count": 58,
   "id": "d2f608e1",
   "metadata": {},
   "outputs": [
    {
     "data": {
      "text/plain": [
       "1.425531914893617"
      ]
     },
     "execution_count": 58,
     "metadata": {},
     "output_type": "execute_result"
    }
   ],
   "source": [
    "2.01/1.41"
   ]
  },
  {
   "cell_type": "code",
   "execution_count": 62,
   "id": "73cf1a32",
   "metadata": {},
   "outputs": [
    {
     "data": {
      "text/plain": [
       "1.2"
      ]
     },
     "execution_count": 62,
     "metadata": {},
     "output_type": "execute_result"
    }
   ],
   "source": [
    "abs(-1.2)"
   ]
  },
  {
   "cell_type": "code",
   "execution_count": null,
   "id": "f24a7087",
   "metadata": {},
   "outputs": [],
   "source": []
  }
 ],
 "metadata": {
  "kernelspec": {
   "display_name": "Python 3 (ipykernel)",
   "language": "python",
   "name": "python3"
  },
  "language_info": {
   "codemirror_mode": {
    "name": "ipython",
    "version": 3
   },
   "file_extension": ".py",
   "mimetype": "text/x-python",
   "name": "python",
   "nbconvert_exporter": "python",
   "pygments_lexer": "ipython3",
   "version": "3.9.0"
  }
 },
 "nbformat": 4,
 "nbformat_minor": 5
}
