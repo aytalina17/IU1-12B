{
 "cells": [
  {
   "cell_type": "markdown",
   "id": "4cb410c6",
   "metadata": {},
   "source": [
    "# Массивы"
   ]
  },
  {
   "cell_type": "code",
   "execution_count": 1,
   "id": "049c34c9",
   "metadata": {},
   "outputs": [],
   "source": [
    "arr = []"
   ]
  },
  {
   "cell_type": "code",
   "execution_count": 2,
   "id": "9bbf6e39",
   "metadata": {},
   "outputs": [
    {
     "data": {
      "text/plain": [
       "list"
      ]
     },
     "execution_count": 2,
     "metadata": {},
     "output_type": "execute_result"
    }
   ],
   "source": [
    "type(arr)"
   ]
  },
  {
   "cell_type": "code",
   "execution_count": 7,
   "id": "b9f5be18",
   "metadata": {},
   "outputs": [],
   "source": [
    "arr = [1,2,\"34\", True, [5,6], None, 7.9]"
   ]
  },
  {
   "cell_type": "code",
   "execution_count": 8,
   "id": "e4df117d",
   "metadata": {},
   "outputs": [
    {
     "name": "stdout",
     "output_type": "stream",
     "text": [
      "[1, 2, '34', True, [5, 6], None, 7.9]\n"
     ]
    }
   ],
   "source": [
    "print(arr)"
   ]
  },
  {
   "cell_type": "code",
   "execution_count": 10,
   "id": "c6098740",
   "metadata": {},
   "outputs": [
    {
     "name": "stdout",
     "output_type": "stream",
     "text": [
      "2\n"
     ]
    }
   ],
   "source": [
    "arr_2d = [[1,2],[3,4]]\n",
    "print(arr_2d[0][1])"
   ]
  },
  {
   "cell_type": "code",
   "execution_count": 11,
   "id": "bc5d9009",
   "metadata": {},
   "outputs": [
    {
     "name": "stdout",
     "output_type": "stream",
     "text": [
      "[1, 2, '34', True, [5, 6], None, 7.9, 10]\n"
     ]
    }
   ],
   "source": [
    "arr.append(10)\n",
    "print(arr)"
   ]
  },
  {
   "cell_type": "code",
   "execution_count": 12,
   "id": "a7bf7217",
   "metadata": {},
   "outputs": [
    {
     "data": {
      "text/plain": [
       "10"
      ]
     },
     "execution_count": 12,
     "metadata": {},
     "output_type": "execute_result"
    }
   ],
   "source": [
    "arr.pop()"
   ]
  },
  {
   "cell_type": "code",
   "execution_count": 13,
   "id": "4d38303d",
   "metadata": {},
   "outputs": [
    {
     "name": "stdout",
     "output_type": "stream",
     "text": [
      "[1, 2, '34', True, [5, 6], None, 7.9]\n"
     ]
    }
   ],
   "source": [
    "print(arr)"
   ]
  },
  {
   "cell_type": "markdown",
   "id": "d45bd70e",
   "metadata": {},
   "source": [
    "# Цикл"
   ]
  },
  {
   "cell_type": "code",
   "execution_count": 17,
   "id": "6ae9fc62",
   "metadata": {},
   "outputs": [],
   "source": [
    "arr = [1,2,3,4,5,6,7,8,9]"
   ]
  },
  {
   "cell_type": "code",
   "execution_count": 18,
   "id": "583ebfbe",
   "metadata": {},
   "outputs": [
    {
     "name": "stdout",
     "output_type": "stream",
     "text": [
      "1\n",
      "2\n",
      "3\n",
      "4\n",
      "5\n",
      "6\n",
      "7\n",
      "8\n",
      "9\n"
     ]
    }
   ],
   "source": [
    "for element in arr:\n",
    "    print(element)"
   ]
  },
  {
   "cell_type": "markdown",
   "id": "b474f00f",
   "metadata": {},
   "source": [
    "# Срезы"
   ]
  },
  {
   "cell_type": "code",
   "execution_count": 19,
   "id": "6d2bfd32",
   "metadata": {},
   "outputs": [
    {
     "data": {
      "text/plain": [
       "[1, 2, 3, 4, 5, 6, 7, 8, 9]"
      ]
     },
     "execution_count": 19,
     "metadata": {},
     "output_type": "execute_result"
    }
   ],
   "source": [
    "arr"
   ]
  },
  {
   "cell_type": "code",
   "execution_count": 20,
   "id": "72a03fd4",
   "metadata": {},
   "outputs": [
    {
     "data": {
      "text/plain": [
       "[2, 3, 4, 5]"
      ]
     },
     "execution_count": 20,
     "metadata": {},
     "output_type": "execute_result"
    }
   ],
   "source": [
    "arr[1:5]"
   ]
  },
  {
   "cell_type": "code",
   "execution_count": 21,
   "id": "225996ac",
   "metadata": {},
   "outputs": [
    {
     "data": {
      "text/plain": [
       "[1, 2, 3]"
      ]
     },
     "execution_count": 21,
     "metadata": {},
     "output_type": "execute_result"
    }
   ],
   "source": [
    "arr[:3]"
   ]
  },
  {
   "cell_type": "code",
   "execution_count": 22,
   "id": "0cfe2df1",
   "metadata": {},
   "outputs": [
    {
     "data": {
      "text/plain": [
       "[5, 6, 7, 8, 9]"
      ]
     },
     "execution_count": 22,
     "metadata": {},
     "output_type": "execute_result"
    }
   ],
   "source": [
    "arr[4:]"
   ]
  },
  {
   "cell_type": "code",
   "execution_count": 24,
   "id": "70547d44",
   "metadata": {},
   "outputs": [
    {
     "data": {
      "text/plain": [
       "[2, 3, 4, 5, 6, 7, 8, 9]"
      ]
     },
     "execution_count": 24,
     "metadata": {},
     "output_type": "execute_result"
    }
   ],
   "source": [
    "arr[-8:]"
   ]
  },
  {
   "cell_type": "code",
   "execution_count": 26,
   "id": "577257c7",
   "metadata": {},
   "outputs": [
    {
     "data": {
      "text/plain": [
       "[2, 3, 4]"
      ]
     },
     "execution_count": 26,
     "metadata": {},
     "output_type": "execute_result"
    }
   ],
   "source": [
    "arr[-8:-5]"
   ]
  },
  {
   "cell_type": "markdown",
   "id": "76320848",
   "metadata": {},
   "source": [
    "# Функции"
   ]
  },
  {
   "cell_type": "code",
   "execution_count": 27,
   "id": "ec6133d5",
   "metadata": {},
   "outputs": [],
   "source": [
    "def f(x):\n",
    "    y = x**2\n",
    "    return y"
   ]
  },
  {
   "cell_type": "code",
   "execution_count": 28,
   "id": "9ad247e3",
   "metadata": {},
   "outputs": [
    {
     "data": {
      "text/plain": [
       "25"
      ]
     },
     "execution_count": 28,
     "metadata": {},
     "output_type": "execute_result"
    }
   ],
   "source": [
    "f(5)"
   ]
  },
  {
   "cell_type": "code",
   "execution_count": 43,
   "id": "e77b2f03",
   "metadata": {},
   "outputs": [],
   "source": [
    "def arr_max(arr):\n",
    "    if type(arr) == list:\n",
    "        if len(arr) > 0:\n",
    "            max_value = arr[0]\n",
    "            for el in arr:\n",
    "                if max_value < el:\n",
    "                    max_value = el\n",
    "            return max_value\n",
    "        else:\n",
    "            print(\"arr is empty\")\n",
    "    else:\n",
    "        print(\"arr should have type list\")"
   ]
  },
  {
   "cell_type": "code",
   "execution_count": 44,
   "id": "7cf78a6d",
   "metadata": {},
   "outputs": [
    {
     "data": {
      "text/plain": [
       "80"
      ]
     },
     "execution_count": 44,
     "metadata": {},
     "output_type": "execute_result"
    }
   ],
   "source": [
    "arr_max([2,5,80,4,11,4,27])"
   ]
  },
  {
   "cell_type": "code",
   "execution_count": 61,
   "id": "e38f133c",
   "metadata": {},
   "outputs": [],
   "source": [
    "matrix = [[1,222222],[3,4]]"
   ]
  },
  {
   "cell_type": "code",
   "execution_count": 63,
   "id": "36f39b84",
   "metadata": {},
   "outputs": [],
   "source": [
    " def print_matrix(matrix):\n",
    "        for row in matrix:\n",
    "            print(*row)"
   ]
  },
  {
   "cell_type": "code",
   "execution_count": 64,
   "id": "2482987b",
   "metadata": {
    "scrolled": false
   },
   "outputs": [
    {
     "name": "stdout",
     "output_type": "stream",
     "text": [
      "1 222222\n",
      "3 4\n"
     ]
    }
   ],
   "source": [
    "print_matrix(matrix)"
   ]
  },
  {
   "cell_type": "code",
   "execution_count": 54,
   "id": "06b76910",
   "metadata": {},
   "outputs": [],
   "source": [
    "A = [[1,2], [3,4], [5,6]] #3x2\n",
    "B = [[1,2,3,4], [5,6,7,8]] #2x4"
   ]
  },
  {
   "cell_type": "code",
   "execution_count": 49,
   "id": "2deda68f",
   "metadata": {},
   "outputs": [],
   "source": [
    "def get_column(matrix, idx):\n",
    "    column = []\n",
    "    for row in matrix:\n",
    "        column.append(row[idx])\n",
    "    return column"
   ]
  },
  {
   "cell_type": "code",
   "execution_count": 51,
   "id": "c970b462",
   "metadata": {},
   "outputs": [],
   "source": [
    "def row_column_mult(row, column):\n",
    "    res = 0\n",
    "    row_len = len(row)\n",
    "    for i in range(row_len):\n",
    "        res = res + row[i] * column[i]\n",
    "    return res"
   ]
  },
  {
   "cell_type": "code",
   "execution_count": 57,
   "id": "3c568bb9",
   "metadata": {},
   "outputs": [],
   "source": [
    "def matrix_mult(A,B):\n",
    "    C = []\n",
    "    for row in A:\n",
    "        column_number = len(B[0])\n",
    "        c_row = []\n",
    "        for column_idx in range(column_number):\n",
    "            column = get_column(B, column_idx)\n",
    "            c_row.append(row_column_mult(row, column))\n",
    "        C.append(c_row)\n",
    "    return C"
   ]
  },
  {
   "cell_type": "code",
   "execution_count": 65,
   "id": "65c0b977",
   "metadata": {},
   "outputs": [
    {
     "name": "stdout",
     "output_type": "stream",
     "text": [
      "1 2\n",
      "3 4\n",
      "5 6\n"
     ]
    }
   ],
   "source": [
    "print_matrix(A)"
   ]
  },
  {
   "cell_type": "code",
   "execution_count": 66,
   "id": "1b531698",
   "metadata": {},
   "outputs": [
    {
     "name": "stdout",
     "output_type": "stream",
     "text": [
      "1 2 3 4\n",
      "5 6 7 8\n"
     ]
    }
   ],
   "source": [
    "print_matrix(B)"
   ]
  },
  {
   "cell_type": "code",
   "execution_count": 67,
   "id": "7b5e4021",
   "metadata": {
    "scrolled": false
   },
   "outputs": [
    {
     "name": "stdout",
     "output_type": "stream",
     "text": [
      "11 14 17 20\n",
      "23 30 37 44\n",
      "35 46 57 68\n"
     ]
    }
   ],
   "source": [
    "C = matrix_mult(A,B)\n",
    "print_matrix(C)"
   ]
  },
  {
   "cell_type": "code",
   "execution_count": null,
   "id": "172ff1e7",
   "metadata": {},
   "outputs": [],
   "source": []
  }
 ],
 "metadata": {
  "kernelspec": {
   "display_name": "Python 3 (ipykernel)",
   "language": "python",
   "name": "python3"
  },
  "language_info": {
   "codemirror_mode": {
    "name": "ipython",
    "version": 3
   },
   "file_extension": ".py",
   "mimetype": "text/x-python",
   "name": "python",
   "nbconvert_exporter": "python",
   "pygments_lexer": "ipython3",
   "version": "3.9.0"
  }
 },
 "nbformat": 4,
 "nbformat_minor": 5
}
