{
 "cells": [
  {
   "cell_type": "markdown",
   "id": "abd25e92",
   "metadata": {},
   "source": [
    "# Занятие 1\n",
    "- типы данных\n",
    "- операции\n",
    "- приведение типов\n",
    "- условный оператор"
   ]
  },
  {
   "cell_type": "markdown",
   "id": "e2af80e7",
   "metadata": {},
   "source": [
    "# Int"
   ]
  },
  {
   "cell_type": "code",
   "execution_count": 23,
   "id": "d15aa66f",
   "metadata": {},
   "outputs": [
    {
     "data": {
      "text/plain": [
       "int"
      ]
     },
     "execution_count": 23,
     "metadata": {},
     "output_type": "execute_result"
    }
   ],
   "source": [
    "type(1000)"
   ]
  },
  {
   "cell_type": "code",
   "execution_count": 1,
   "id": "af253a25",
   "metadata": {},
   "outputs": [
    {
     "data": {
      "text/plain": [
       "3"
      ]
     },
     "execution_count": 1,
     "metadata": {},
     "output_type": "execute_result"
    }
   ],
   "source": [
    "1 + 2"
   ]
  },
  {
   "cell_type": "code",
   "execution_count": 2,
   "id": "e852f56c",
   "metadata": {},
   "outputs": [
    {
     "data": {
      "text/plain": [
       "1"
      ]
     },
     "execution_count": 2,
     "metadata": {},
     "output_type": "execute_result"
    }
   ],
   "source": [
    "2 - 1"
   ]
  },
  {
   "cell_type": "code",
   "execution_count": 3,
   "id": "ecb217a3",
   "metadata": {},
   "outputs": [
    {
     "data": {
      "text/plain": [
       "8"
      ]
     },
     "execution_count": 3,
     "metadata": {},
     "output_type": "execute_result"
    }
   ],
   "source": [
    "4 * 2"
   ]
  },
  {
   "cell_type": "code",
   "execution_count": 4,
   "id": "b1ee6c72",
   "metadata": {},
   "outputs": [
    {
     "data": {
      "text/plain": [
       "2.0"
      ]
     },
     "execution_count": 4,
     "metadata": {},
     "output_type": "execute_result"
    }
   ],
   "source": [
    "4 / 2"
   ]
  },
  {
   "cell_type": "code",
   "execution_count": 5,
   "id": "d6836eaf",
   "metadata": {},
   "outputs": [
    {
     "data": {
      "text/plain": [
       "2"
      ]
     },
     "execution_count": 5,
     "metadata": {},
     "output_type": "execute_result"
    }
   ],
   "source": [
    "4 // 2 #целочисленное деление"
   ]
  },
  {
   "cell_type": "code",
   "execution_count": 6,
   "id": "112d3a82",
   "metadata": {},
   "outputs": [
    {
     "data": {
      "text/plain": [
       "0"
      ]
     },
     "execution_count": 6,
     "metadata": {},
     "output_type": "execute_result"
    }
   ],
   "source": [
    "4 % 2 #остаток от деления"
   ]
  },
  {
   "cell_type": "code",
   "execution_count": 7,
   "id": "e6248805",
   "metadata": {},
   "outputs": [
    {
     "data": {
      "text/plain": [
       "True"
      ]
     },
     "execution_count": 7,
     "metadata": {},
     "output_type": "execute_result"
    }
   ],
   "source": [
    "4 > 2"
   ]
  },
  {
   "cell_type": "code",
   "execution_count": 8,
   "id": "79056196",
   "metadata": {},
   "outputs": [
    {
     "data": {
      "text/plain": [
       "False"
      ]
     },
     "execution_count": 8,
     "metadata": {},
     "output_type": "execute_result"
    }
   ],
   "source": [
    "2 > 4"
   ]
  },
  {
   "cell_type": "code",
   "execution_count": 9,
   "id": "102d55fa",
   "metadata": {},
   "outputs": [
    {
     "data": {
      "text/plain": [
       "16"
      ]
     },
     "execution_count": 9,
     "metadata": {},
     "output_type": "execute_result"
    }
   ],
   "source": [
    "2 ** 4 #Возведение в степень"
   ]
  },
  {
   "cell_type": "markdown",
   "id": "a62cd1b5",
   "metadata": {},
   "source": [
    "# Float"
   ]
  },
  {
   "cell_type": "code",
   "execution_count": 12,
   "id": "8a241407",
   "metadata": {},
   "outputs": [
    {
     "data": {
      "text/plain": [
       "float"
      ]
     },
     "execution_count": 12,
     "metadata": {},
     "output_type": "execute_result"
    }
   ],
   "source": [
    "type(1.3)"
   ]
  },
  {
   "cell_type": "code",
   "execution_count": 13,
   "id": "05317016",
   "metadata": {},
   "outputs": [
    {
     "data": {
      "text/plain": [
       "7.9"
      ]
     },
     "execution_count": 13,
     "metadata": {},
     "output_type": "execute_result"
    }
   ],
   "source": [
    "5.3 + 2.6"
   ]
  },
  {
   "cell_type": "code",
   "execution_count": 15,
   "id": "7b399971",
   "metadata": {},
   "outputs": [
    {
     "data": {
      "text/plain": [
       "0.6000000000000001"
      ]
     },
     "execution_count": 15,
     "metadata": {},
     "output_type": "execute_result"
    }
   ],
   "source": [
    "2.2 - 1.6"
   ]
  },
  {
   "cell_type": "code",
   "execution_count": 16,
   "id": "780ca877",
   "metadata": {},
   "outputs": [
    {
     "data": {
      "text/plain": [
       "34.02"
      ]
     },
     "execution_count": 16,
     "metadata": {},
     "output_type": "execute_result"
    }
   ],
   "source": [
    "4.2 * 8.1"
   ]
  },
  {
   "cell_type": "code",
   "execution_count": 17,
   "id": "0c60e445",
   "metadata": {},
   "outputs": [
    {
     "data": {
      "text/plain": [
       "2.058823529411765"
      ]
     },
     "execution_count": 17,
     "metadata": {},
     "output_type": "execute_result"
    }
   ],
   "source": [
    "3.5 / 1.7"
   ]
  },
  {
   "cell_type": "code",
   "execution_count": 18,
   "id": "75e91745",
   "metadata": {},
   "outputs": [
    {
     "data": {
      "text/plain": [
       "2.0"
      ]
     },
     "execution_count": 18,
     "metadata": {},
     "output_type": "execute_result"
    }
   ],
   "source": [
    "3.5 // 1.7"
   ]
  },
  {
   "cell_type": "code",
   "execution_count": 19,
   "id": "9882d34c",
   "metadata": {},
   "outputs": [
    {
     "data": {
      "text/plain": [
       "0.10000000000000009"
      ]
     },
     "execution_count": 19,
     "metadata": {},
     "output_type": "execute_result"
    }
   ],
   "source": [
    "3.5 % 1.7"
   ]
  },
  {
   "cell_type": "code",
   "execution_count": 20,
   "id": "f95b2a6a",
   "metadata": {},
   "outputs": [
    {
     "data": {
      "text/plain": [
       "0.08163265306122448"
      ]
     },
     "execution_count": 20,
     "metadata": {},
     "output_type": "execute_result"
    }
   ],
   "source": [
    "3.5 ** (-2)"
   ]
  },
  {
   "cell_type": "code",
   "execution_count": 21,
   "id": "f84ee6af",
   "metadata": {},
   "outputs": [
    {
     "data": {
      "text/plain": [
       "True"
      ]
     },
     "execution_count": 21,
     "metadata": {},
     "output_type": "execute_result"
    }
   ],
   "source": [
    "3.4 <= 4"
   ]
  },
  {
   "cell_type": "code",
   "execution_count": 22,
   "id": "a74267ac",
   "metadata": {},
   "outputs": [
    {
     "data": {
      "text/plain": [
       "False"
      ]
     },
     "execution_count": 22,
     "metadata": {},
     "output_type": "execute_result"
    }
   ],
   "source": [
    "6.3 >= 10.6"
   ]
  },
  {
   "cell_type": "markdown",
   "id": "36fab808",
   "metadata": {},
   "source": [
    "# Boolean"
   ]
  },
  {
   "cell_type": "code",
   "execution_count": 24,
   "id": "5299b48a",
   "metadata": {},
   "outputs": [
    {
     "data": {
      "text/plain": [
       "bool"
      ]
     },
     "execution_count": 24,
     "metadata": {},
     "output_type": "execute_result"
    }
   ],
   "source": [
    "type(True)"
   ]
  },
  {
   "cell_type": "code",
   "execution_count": 25,
   "id": "d9f8b8bb",
   "metadata": {},
   "outputs": [
    {
     "data": {
      "text/plain": [
       "False"
      ]
     },
     "execution_count": 25,
     "metadata": {},
     "output_type": "execute_result"
    }
   ],
   "source": [
    "1 > 2"
   ]
  },
  {
   "cell_type": "code",
   "execution_count": 26,
   "id": "88f5a8e5",
   "metadata": {},
   "outputs": [
    {
     "data": {
      "text/plain": [
       "True"
      ]
     },
     "execution_count": 26,
     "metadata": {},
     "output_type": "execute_result"
    }
   ],
   "source": [
    "2 > 1"
   ]
  },
  {
   "cell_type": "code",
   "execution_count": 27,
   "id": "11c317b8",
   "metadata": {},
   "outputs": [
    {
     "data": {
      "text/plain": [
       "False"
      ]
     },
     "execution_count": 27,
     "metadata": {},
     "output_type": "execute_result"
    }
   ],
   "source": [
    "3 >= 5"
   ]
  },
  {
   "cell_type": "code",
   "execution_count": 28,
   "id": "9bd1703f",
   "metadata": {},
   "outputs": [
    {
     "data": {
      "text/plain": [
       "True"
      ]
     },
     "execution_count": 28,
     "metadata": {},
     "output_type": "execute_result"
    }
   ],
   "source": [
    "3 <= 5"
   ]
  },
  {
   "cell_type": "markdown",
   "id": "4b63dfd6",
   "metadata": {},
   "source": [
    "### and or"
   ]
  },
  {
   "cell_type": "code",
   "execution_count": 29,
   "id": "d8e4ac0c",
   "metadata": {},
   "outputs": [
    {
     "data": {
      "text/plain": [
       "True"
      ]
     },
     "execution_count": 29,
     "metadata": {},
     "output_type": "execute_result"
    }
   ],
   "source": [
    "6 >= 4 and 6 <= 8"
   ]
  },
  {
   "cell_type": "code",
   "execution_count": 30,
   "id": "b9871b39",
   "metadata": {},
   "outputs": [
    {
     "data": {
      "text/plain": [
       "False"
      ]
     },
     "execution_count": 30,
     "metadata": {},
     "output_type": "execute_result"
    }
   ],
   "source": [
    "6 <= 4 or 5 >= 8"
   ]
  },
  {
   "cell_type": "markdown",
   "id": "2745170b",
   "metadata": {},
   "source": [
    "# String"
   ]
  },
  {
   "cell_type": "code",
   "execution_count": 32,
   "id": "68791139",
   "metadata": {},
   "outputs": [
    {
     "data": {
      "text/plain": [
       "str"
      ]
     },
     "execution_count": 32,
     "metadata": {},
     "output_type": "execute_result"
    }
   ],
   "source": [
    "type(\"Hello\")"
   ]
  },
  {
   "cell_type": "code",
   "execution_count": 33,
   "id": "7aa44d03",
   "metadata": {},
   "outputs": [
    {
     "data": {
      "text/plain": [
       "'x1 y1'"
      ]
     },
     "execution_count": 33,
     "metadata": {},
     "output_type": "execute_result"
    }
   ],
   "source": [
    "\"x1\" + \" \" + \"y1\""
   ]
  },
  {
   "cell_type": "markdown",
   "id": "7ef3d444",
   "metadata": {},
   "source": [
    "# Round()"
   ]
  },
  {
   "cell_type": "code",
   "execution_count": 34,
   "id": "71e7ab35",
   "metadata": {},
   "outputs": [
    {
     "data": {
      "text/plain": [
       "4"
      ]
     },
     "execution_count": 34,
     "metadata": {},
     "output_type": "execute_result"
    }
   ],
   "source": [
    "round(3.6)"
   ]
  },
  {
   "cell_type": "code",
   "execution_count": 35,
   "id": "d0985e2a",
   "metadata": {},
   "outputs": [
    {
     "data": {
      "text/plain": [
       "2"
      ]
     },
     "execution_count": 35,
     "metadata": {},
     "output_type": "execute_result"
    }
   ],
   "source": [
    "round(2.1)"
   ]
  },
  {
   "cell_type": "code",
   "execution_count": 36,
   "id": "d8e3f9f3",
   "metadata": {},
   "outputs": [
    {
     "data": {
      "text/plain": [
       "6"
      ]
     },
     "execution_count": 36,
     "metadata": {},
     "output_type": "execute_result"
    }
   ],
   "source": [
    "round(5.5)"
   ]
  },
  {
   "cell_type": "code",
   "execution_count": 37,
   "id": "c64ec5e2",
   "metadata": {},
   "outputs": [
    {
     "data": {
      "text/plain": [
       "4.8"
      ]
     },
     "execution_count": 37,
     "metadata": {},
     "output_type": "execute_result"
    }
   ],
   "source": [
    "round(4.789, 1)"
   ]
  },
  {
   "cell_type": "markdown",
   "id": "06827988",
   "metadata": {},
   "source": [
    "# Print()"
   ]
  },
  {
   "cell_type": "code",
   "execution_count": 38,
   "id": "ca150ed2",
   "metadata": {},
   "outputs": [
    {
     "name": "stdout",
     "output_type": "stream",
     "text": [
      "4 9 9\n"
     ]
    }
   ],
   "source": [
    "print(1+3, 4+5, 10-1)"
   ]
  },
  {
   "cell_type": "code",
   "execution_count": 39,
   "id": "fd48e298",
   "metadata": {},
   "outputs": [
    {
     "name": "stdout",
     "output_type": "stream",
     "text": [
      "Name:  Айта\n"
     ]
    }
   ],
   "source": [
    "print(\"Name: \", \"Айта\")"
   ]
  },
  {
   "cell_type": "code",
   "execution_count": 40,
   "id": "ba5586c1",
   "metadata": {},
   "outputs": [
    {
     "name": "stdout",
     "output_type": "stream",
     "text": [
      "Name:  Айта\n"
     ]
    }
   ],
   "source": [
    "print(\"Name: \" + \" \" + \"Айта\")"
   ]
  },
  {
   "cell_type": "code",
   "execution_count": 41,
   "id": "5cbed094",
   "metadata": {},
   "outputs": [
    {
     "name": "stdout",
     "output_type": "stream",
     "text": [
      "Age:  18\n"
     ]
    }
   ],
   "source": [
    "print(\"Age: \", 18)"
   ]
  },
  {
   "cell_type": "markdown",
   "id": "3d131051",
   "metadata": {},
   "source": [
    "# Приведение типов"
   ]
  },
  {
   "cell_type": "code",
   "execution_count": 43,
   "id": "3036cc33",
   "metadata": {},
   "outputs": [
    {
     "data": {
      "text/plain": [
       "'Age: 18'"
      ]
     },
     "execution_count": 43,
     "metadata": {},
     "output_type": "execute_result"
    }
   ],
   "source": [
    "\"Age: \" + str(18)"
   ]
  },
  {
   "cell_type": "code",
   "execution_count": 42,
   "id": "8c360236",
   "metadata": {
    "scrolled": true
   },
   "outputs": [
    {
     "data": {
      "text/plain": [
       "'18'"
      ]
     },
     "execution_count": 42,
     "metadata": {},
     "output_type": "execute_result"
    }
   ],
   "source": [
    "str(18)"
   ]
  },
  {
   "cell_type": "code",
   "execution_count": 45,
   "id": "3f3a3d01",
   "metadata": {},
   "outputs": [
    {
     "data": {
      "text/plain": [
       "'True'"
      ]
     },
     "execution_count": 45,
     "metadata": {},
     "output_type": "execute_result"
    }
   ],
   "source": [
    "str(True)"
   ]
  },
  {
   "cell_type": "code",
   "execution_count": 46,
   "id": "9fcbb532",
   "metadata": {},
   "outputs": [
    {
     "data": {
      "text/plain": [
       "'None'"
      ]
     },
     "execution_count": 46,
     "metadata": {},
     "output_type": "execute_result"
    }
   ],
   "source": [
    "str(None)"
   ]
  },
  {
   "cell_type": "code",
   "execution_count": 47,
   "id": "17f54d8d",
   "metadata": {},
   "outputs": [
    {
     "data": {
      "text/plain": [
       "'1.3'"
      ]
     },
     "execution_count": 47,
     "metadata": {},
     "output_type": "execute_result"
    }
   ],
   "source": [
    "str(1.3)"
   ]
  },
  {
   "cell_type": "code",
   "execution_count": 48,
   "id": "b920236e",
   "metadata": {},
   "outputs": [
    {
     "data": {
      "text/plain": [
       "'0.3333333333333333'"
      ]
     },
     "execution_count": 48,
     "metadata": {},
     "output_type": "execute_result"
    }
   ],
   "source": [
    "str(1/3)"
   ]
  },
  {
   "cell_type": "code",
   "execution_count": 49,
   "id": "6eca3a59",
   "metadata": {},
   "outputs": [
    {
     "data": {
      "text/plain": [
       "20"
      ]
     },
     "execution_count": 49,
     "metadata": {},
     "output_type": "execute_result"
    }
   ],
   "source": [
    "int(\"20\")"
   ]
  },
  {
   "cell_type": "code",
   "execution_count": 50,
   "id": "e1876588",
   "metadata": {},
   "outputs": [
    {
     "data": {
      "text/plain": [
       "-56"
      ]
     },
     "execution_count": 50,
     "metadata": {},
     "output_type": "execute_result"
    }
   ],
   "source": [
    "int(\"-56\")"
   ]
  },
  {
   "cell_type": "code",
   "execution_count": 52,
   "id": "3ebc8299",
   "metadata": {},
   "outputs": [
    {
     "data": {
      "text/plain": [
       "82"
      ]
     },
     "execution_count": 52,
     "metadata": {},
     "output_type": "execute_result"
    }
   ],
   "source": [
    "int(\"1010010\", 2) #перевод в двоичную СС"
   ]
  },
  {
   "cell_type": "code",
   "execution_count": 53,
   "id": "577db93c",
   "metadata": {},
   "outputs": [
    {
     "data": {
      "text/plain": [
       "2"
      ]
     },
     "execution_count": 53,
     "metadata": {},
     "output_type": "execute_result"
    }
   ],
   "source": [
    "int(2.3)"
   ]
  },
  {
   "cell_type": "code",
   "execution_count": 54,
   "id": "3f4e7fd0",
   "metadata": {},
   "outputs": [
    {
     "data": {
      "text/plain": [
       "8"
      ]
     },
     "execution_count": 54,
     "metadata": {},
     "output_type": "execute_result"
    }
   ],
   "source": [
    "int(8.9) #округление к 0"
   ]
  },
  {
   "cell_type": "code",
   "execution_count": 57,
   "id": "aebeaad3",
   "metadata": {},
   "outputs": [
    {
     "data": {
      "text/plain": [
       "0"
      ]
     },
     "execution_count": 57,
     "metadata": {},
     "output_type": "execute_result"
    }
   ],
   "source": [
    "int(-0.99)"
   ]
  },
  {
   "cell_type": "code",
   "execution_count": 58,
   "id": "05a55ee6",
   "metadata": {},
   "outputs": [
    {
     "data": {
      "text/plain": [
       "3.4"
      ]
     },
     "execution_count": 58,
     "metadata": {},
     "output_type": "execute_result"
    }
   ],
   "source": [
    "float(\"3.4\")"
   ]
  },
  {
   "cell_type": "code",
   "execution_count": 59,
   "id": "54fdfe3a",
   "metadata": {
    "scrolled": true
   },
   "outputs": [
    {
     "data": {
      "text/plain": [
       "0.3"
      ]
     },
     "execution_count": 59,
     "metadata": {},
     "output_type": "execute_result"
    }
   ],
   "source": [
    "float(\".3\")"
   ]
  },
  {
   "cell_type": "markdown",
   "id": "e2dd2ded",
   "metadata": {},
   "source": [
    "# Переменные"
   ]
  },
  {
   "cell_type": "code",
   "execution_count": 65,
   "id": "6e61e2ca",
   "metadata": {},
   "outputs": [
    {
     "name": "stdout",
     "output_type": "stream",
     "text": [
      "1\n"
     ]
    }
   ],
   "source": [
    "a = 1\n",
    "print(a)"
   ]
  },
  {
   "cell_type": "code",
   "execution_count": 66,
   "id": "fec49bd8",
   "metadata": {},
   "outputs": [
    {
     "name": "stdout",
     "output_type": "stream",
     "text": [
      "1.3\n"
     ]
    }
   ],
   "source": [
    "b = 1.3\n",
    "print(b)"
   ]
  },
  {
   "cell_type": "code",
   "execution_count": 67,
   "id": "a19f0d92",
   "metadata": {},
   "outputs": [
    {
     "name": "stdout",
     "output_type": "stream",
     "text": [
      "stringgggg\n"
     ]
    }
   ],
   "source": [
    "c = \"stringgggg\"\n",
    "print(c)"
   ]
  },
  {
   "cell_type": "code",
   "execution_count": 68,
   "id": "8c1b5e17",
   "metadata": {},
   "outputs": [
    {
     "name": "stdout",
     "output_type": "stream",
     "text": [
      "True\n"
     ]
    }
   ],
   "source": [
    "d = True\n",
    "print(d)"
   ]
  },
  {
   "cell_type": "markdown",
   "id": "b8f1ad51",
   "metadata": {},
   "source": [
    "# Условный оператор if"
   ]
  },
  {
   "cell_type": "code",
   "execution_count": 63,
   "id": "359e1e30",
   "metadata": {},
   "outputs": [
    {
     "name": "stdout",
     "output_type": "stream",
     "text": [
      "You're not right\n"
     ]
    }
   ],
   "source": [
    "if 3 > 6:\n",
    "    print(\"You're right\")\n",
    "else:\n",
    "    print(\"You're not right\")"
   ]
  },
  {
   "cell_type": "markdown",
   "id": "a86aac70",
   "metadata": {},
   "source": [
    "# input()"
   ]
  },
  {
   "cell_type": "code",
   "execution_count": 71,
   "id": "d22cc7d7",
   "metadata": {},
   "outputs": [
    {
     "name": "stdout",
     "output_type": "stream",
     "text": [
      "10\n"
     ]
    }
   ],
   "source": [
    "a = int(input())"
   ]
  },
  {
   "cell_type": "code",
   "execution_count": 72,
   "id": "f48210c4",
   "metadata": {},
   "outputs": [
    {
     "name": "stdout",
     "output_type": "stream",
     "text": [
      "10\n"
     ]
    }
   ],
   "source": [
    "print(a)"
   ]
  },
  {
   "cell_type": "code",
   "execution_count": null,
   "id": "8047a87b",
   "metadata": {},
   "outputs": [],
   "source": []
  }
 ],
 "metadata": {
  "kernelspec": {
   "display_name": "Python 3 (ipykernel)",
   "language": "python",
   "name": "python3"
  },
  "language_info": {
   "codemirror_mode": {
    "name": "ipython",
    "version": 3
   },
   "file_extension": ".py",
   "mimetype": "text/x-python",
   "name": "python",
   "nbconvert_exporter": "python",
   "pygments_lexer": "ipython3",
   "version": "3.9.0"
  }
 },
 "nbformat": 4,
 "nbformat_minor": 5
}
